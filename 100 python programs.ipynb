{
 "cells": [
  {
   "cell_type": "markdown",
   "id": "e91be1d2",
   "metadata": {},
   "source": [
    "# 1. User will input (3ages).Find the oldest one"
   ]
  },
  {
   "cell_type": "code",
   "execution_count": 1,
   "id": "3bf5d016",
   "metadata": {},
   "outputs": [
    {
     "name": "stdout",
     "output_type": "stream",
     "text": [
      "1st age14\n",
      "2nd age15\n",
      "3rd age16\n",
      "the oldest one is  16\n"
     ]
    }
   ],
   "source": [
    "age1 = int(input('1st age'))\n",
    "age2 = int(input('2nd age'))\n",
    "age3 = int(input('3rd age'))\n",
    "\n",
    "print(\"the oldest one is \", max(age1 ,age2, age3))"
   ]
  },
  {
   "cell_type": "code",
   "execution_count": null,
   "id": "4a0071a0",
   "metadata": {},
   "outputs": [],
   "source": []
  },
  {
   "cell_type": "markdown",
   "id": "06457889",
   "metadata": {},
   "source": [
    "# 2. Write a program that will convert celsius value to fahrenheit\n"
   ]
  },
  {
   "cell_type": "code",
   "execution_count": 2,
   "id": "d4f0212e",
   "metadata": {},
   "outputs": [
    {
     "name": "stdout",
     "output_type": "stream",
     "text": [
      "Enter the temperature in celcius32\n",
      "Temperature in Fahrenheit is  89.6\n"
     ]
    }
   ],
   "source": [
    "temp_in_cel = int(input('Enter the temperature in celcius'))\n",
    "temp_in_fahrenheit = temp_in_cel*1.8+32\n",
    "print(\"Temperature in Fahrenheit is \" ,temp_in_fahrenheit )"
   ]
  },
  {
   "cell_type": "code",
   "execution_count": null,
   "id": "ca946e2a",
   "metadata": {},
   "outputs": [],
   "source": []
  },
  {
   "cell_type": "markdown",
   "id": "fe5fbec6",
   "metadata": {},
   "source": [
    "# 3. User will input (2numbers).Write a program to swap the numbers\n"
   ]
  },
  {
   "cell_type": "code",
   "execution_count": 5,
   "id": "16ae61b3",
   "metadata": {},
   "outputs": [
    {
     "name": "stdout",
     "output_type": "stream",
     "text": [
      "enter the num a 5\n",
      "enter the num b 10\n",
      "Numbers before swapping:\n",
      " a: 5\n",
      " b: 10\n",
      "*****************************\n",
      "Numbers after swapping:\n",
      " a: 10\n",
      " b: 5\n"
     ]
    }
   ],
   "source": [
    "a = int(input('enter the num a '))\n",
    "b = int(input('enter the num b '))\n",
    "\n",
    "print('Numbers before swapping:\\n' , 'a: {}\\n b: {}'.format(a,b))\n",
    "\n",
    "a,b = b,a\n",
    "\n",
    "print('*****************************')\n",
    "print('Numbers after swapping:\\n' , 'a: {}\\n b: {}'.format(a,b))"
   ]
  },
  {
   "cell_type": "code",
   "execution_count": null,
   "id": "cee3ecaf",
   "metadata": {},
   "outputs": [],
   "source": []
  },
  {
   "cell_type": "markdown",
   "id": "e29fba64",
   "metadata": {},
   "source": [
    "# 4. Write a program that will give you the sum of 3 digits\n"
   ]
  },
  {
   "cell_type": "code",
   "execution_count": 7,
   "id": "18f907e7",
   "metadata": {},
   "outputs": [
    {
     "name": "stdout",
     "output_type": "stream",
     "text": [
      "1st num2\n",
      "2nd num4\n",
      "3rd num6\n",
      "the sum is  12\n"
     ]
    }
   ],
   "source": [
    "a1 = int(input('1st num'))\n",
    "a2 = int(input('2nd num'))\n",
    "a3 = int(input('3rd num'))\n",
    "\n",
    "print(\"the sum is \",(a1 +a2+ a3))"
   ]
  },
  {
   "cell_type": "code",
   "execution_count": null,
   "id": "0d014ec2",
   "metadata": {},
   "outputs": [],
   "source": []
  },
  {
   "cell_type": "markdown",
   "id": "b70c8008",
   "metadata": {},
   "source": [
    "# 5. Write a program that will reverse a four digit number.Also it checks whether the reverse is true.\n"
   ]
  },
  {
   "cell_type": "code",
   "execution_count": 8,
   "id": "7ac65207",
   "metadata": {},
   "outputs": [
    {
     "name": "stdout",
     "output_type": "stream",
     "text": [
      "2654\n"
     ]
    }
   ],
   "source": [
    "n = 4562\n",
    "rev = 0\n",
    " \n",
    "while(n > 0):\n",
    "    a = n % 10\n",
    "    rev = rev * 10 + a\n",
    "    n = n // 10\n",
    " \n",
    "print(rev)"
   ]
  },
  {
   "cell_type": "code",
   "execution_count": null,
   "id": "bbedf784",
   "metadata": {},
   "outputs": [],
   "source": []
  },
  {
   "cell_type": "markdown",
   "id": "fee419dd",
   "metadata": {},
   "source": [
    "# 6. Write a program that will tell whether the number entered by the user is odd or even."
   ]
  },
  {
   "cell_type": "code",
   "execution_count": 9,
   "id": "424dd5bf",
   "metadata": {},
   "outputs": [
    {
     "name": "stdout",
     "output_type": "stream",
     "text": [
      "Enter the number 12\n",
      "The number is even\n"
     ]
    }
   ],
   "source": [
    "num = int(input('Enter the number '))\n",
    "\n",
    "if num%2 ==0:\n",
    "    print('The number is even')\n",
    "else:\n",
    "    print('The number is odd')"
   ]
  },
  {
   "cell_type": "code",
   "execution_count": null,
   "id": "09187391",
   "metadata": {},
   "outputs": [],
   "source": []
  },
  {
   "cell_type": "markdown",
   "id": "ae73abb6",
   "metadata": {},
   "source": [
    "# 7. Write a program that will tell whether the given year is a leap year or not.\n"
   ]
  },
  {
   "cell_type": "code",
   "execution_count": 12,
   "id": "7e458ea6",
   "metadata": {},
   "outputs": [
    {
     "name": "stdout",
     "output_type": "stream",
     "text": [
      "Enter the year2020\n",
      "This is a leap year\n"
     ]
    }
   ],
   "source": [
    "year = int(input('Enter the year'))\n",
    "if year%4==0:\n",
    "    print('This is a leap year')\n",
    "else:\n",
    "    print('The is not a leap year')"
   ]
  },
  {
   "cell_type": "code",
   "execution_count": null,
   "id": "597e1485",
   "metadata": {},
   "outputs": [],
   "source": []
  },
  {
   "cell_type": "markdown",
   "id": "d6a0fbf2",
   "metadata": {},
   "source": [
    "# 8. Write a program to find the euclidean distance between two coordinates.\n"
   ]
  },
  {
   "cell_type": "code",
   "execution_count": 17,
   "id": "68003707",
   "metadata": {},
   "outputs": [
    {
     "name": "stdout",
     "output_type": "stream",
     "text": [
      "euclidean distance is: 10.0\n"
     ]
    }
   ],
   "source": [
    "x1 = 20\n",
    "x2 = 30\n",
    "y1 = 5\n",
    "y2 =5\n",
    "\n",
    "import math\n",
    "euclidian_distance = math.sqrt((x2-x1)**2+(y2-y1)**2)\n",
    "print('euclidean distance is:' , euclidian_distance)"
   ]
  },
  {
   "cell_type": "code",
   "execution_count": null,
   "id": "af8f4071",
   "metadata": {},
   "outputs": [],
   "source": []
  },
  {
   "cell_type": "markdown",
   "id": "1fce38fb",
   "metadata": {},
   "source": [
    "# 9. Write a program that take a user inputr of three angles and will find out whether it can form a triangle or not.\n"
   ]
  },
  {
   "cell_type": "code",
   "execution_count": 19,
   "id": "e6471f9e",
   "metadata": {},
   "outputs": [
    {
     "name": "stdout",
     "output_type": "stream",
     "text": [
      "Enter the 1st angle60\n",
      "Enter the 2nd angle40\n",
      "Enter the 3rd angle80\n",
      "The given angles form a triangle\n"
     ]
    }
   ],
   "source": [
    "a = int(input('Enter the 1st angle'))\n",
    "b = int(input('Enter the 2nd angle'))\n",
    "c = int(input('Enter the 3rd angle'))\n",
    "\n",
    "if (a+b+c) == 180:\n",
    "    print('The given angles form a triangle')\n",
    "else:\n",
    "    print('The angles will not form a triangle')"
   ]
  },
  {
   "cell_type": "code",
   "execution_count": null,
   "id": "8629ec9d",
   "metadata": {},
   "outputs": [],
   "source": []
  },
  {
   "cell_type": "markdown",
   "id": "b282e90c",
   "metadata": {},
   "source": [
    "# 10. Write a program that will take user input of cost price and selling price and determines whether its a loss or a profit\n"
   ]
  },
  {
   "cell_type": "code",
   "execution_count": 20,
   "id": "7a416871",
   "metadata": {},
   "outputs": [
    {
     "name": "stdout",
     "output_type": "stream",
     "text": [
      "Enter the cost price: 100\n",
      "Enter the selling price: 50\n",
      "It is a loss of 50\n"
     ]
    }
   ],
   "source": [
    "cost_price = int(input('Enter the cost price: '))\n",
    "selling_price = int(input('Enter the selling price: '))\n",
    "\n",
    "if (selling_price - cost_price) >0:\n",
    "    print('It is a profit of {}'.format(selling_price - cost_price))\n",
    "else:\n",
    "    print('It is a loss of {}'.format(cost_price - selling_price))"
   ]
  },
  {
   "cell_type": "code",
   "execution_count": null,
   "id": "ae8b73e8",
   "metadata": {},
   "outputs": [],
   "source": []
  },
  {
   "cell_type": "markdown",
   "id": "c825eff9",
   "metadata": {},
   "source": [
    "# 11. Write a program to find the simple interest when the value of principle,rate of interest and time period is given.\n"
   ]
  },
  {
   "cell_type": "code",
   "execution_count": 22,
   "id": "fe6113ec",
   "metadata": {},
   "outputs": [
    {
     "name": "stdout",
     "output_type": "stream",
     "text": [
      "Simple intrest is: 6000.0\n"
     ]
    }
   ],
   "source": [
    "p = 50000\n",
    "t =1\n",
    "r = 12\n",
    "\n",
    "si = p*t*r/100\n",
    "\n",
    "print('Simple intrest is:' ,si)"
   ]
  },
  {
   "cell_type": "code",
   "execution_count": null,
   "id": "2d0e965c",
   "metadata": {},
   "outputs": [],
   "source": []
  },
  {
   "cell_type": "markdown",
   "id": "ab1453dc",
   "metadata": {},
   "source": [
    "# 12. Write  a program that will tell whether the given number is divisible by 3 & 6.\n"
   ]
  },
  {
   "cell_type": "code",
   "execution_count": 24,
   "id": "935d2d94",
   "metadata": {},
   "outputs": [
    {
     "name": "stdout",
     "output_type": "stream",
     "text": [
      "The number is not divisible by 3 and 6\n"
     ]
    }
   ],
   "source": [
    "a = 200\n",
    "if (a%3 == 0) and (a%6 == 0):\n",
    "    print('The number is divisible by 3 and 6')\n",
    "else:\n",
    "     print('The number is not divisible by 3 and 6')"
   ]
  },
  {
   "cell_type": "code",
   "execution_count": 25,
   "id": "1c3d46b1",
   "metadata": {},
   "outputs": [
    {
     "name": "stdout",
     "output_type": "stream",
     "text": [
      "The number is divisible by 3 and 6\n"
     ]
    }
   ],
   "source": [
    "a = 36\n",
    "if (a%3 == 0) and (a%6 == 0):\n",
    "    print('The number is divisible by 3 and 6')\n",
    "else:\n",
    "     print('The number is not divisible by 3 and 6')"
   ]
  },
  {
   "cell_type": "code",
   "execution_count": null,
   "id": "1dfa5672",
   "metadata": {},
   "outputs": [],
   "source": []
  },
  {
   "cell_type": "markdown",
   "id": "91fc0fec",
   "metadata": {},
   "source": [
    "# 13. Write a program that will determine weather when the value of temperature and humidity is provided by the user.\n",
    "TEMPERATURE(C)      HUMIDITY(%)      WEATHER\n",
    "\n",
    "      >= 30                             >=90                Hot and Humid\n",
    "      >= 30                             < 90                Hot\n",
    "      <30                               >= 90               Cool and Humid\n",
    "      <30                               <90                 Cool\n"
   ]
  },
  {
   "cell_type": "code",
   "execution_count": 29,
   "id": "ea2c6c66",
   "metadata": {},
   "outputs": [
    {
     "name": "stdout",
     "output_type": "stream",
     "text": [
      "Weather is cool and Humid\n"
     ]
    }
   ],
   "source": [
    "temp = 20\n",
    "hum = 90\n",
    "\n",
    "if temp>=30: \n",
    "    if hum>=90:\n",
    "        print('Weather is Hot and Humid')\n",
    "    else:\n",
    "        print('Weather is Hot')\n",
    "else:\n",
    "    if hum >=90:\n",
    "        print('Weather is cool and Humid')\n",
    "    else:\n",
    "        print('Weather is cool')"
   ]
  },
  {
   "cell_type": "code",
   "execution_count": null,
   "id": "9c879f24",
   "metadata": {},
   "outputs": [],
   "source": []
  },
  {
   "cell_type": "markdown",
   "id": "290e2ac1",
   "metadata": {},
   "source": [
    "# 14. Write a program that will take three digits from the user and add the square of each digit.\n"
   ]
  },
  {
   "cell_type": "code",
   "execution_count": 30,
   "id": "4cf45e53",
   "metadata": {},
   "outputs": [
    {
     "name": "stdout",
     "output_type": "stream",
     "text": [
      "Enter the first number1\n",
      "Enter the second number2\n",
      "Enter the third number3\n",
      "14\n"
     ]
    }
   ],
   "source": [
    "num1 = int(input('Enter the first number'))\n",
    "num2 = int(input('Enter the second number'))\n",
    "num3 = int(input('Enter the third number'))\n",
    "\n",
    "square_sum = (num1**2+num2**2+num3**2)\n",
    "print(square_sum)"
   ]
  },
  {
   "cell_type": "code",
   "execution_count": null,
   "id": "2b5c3ea3",
   "metadata": {},
   "outputs": [],
   "source": []
  },
  {
   "cell_type": "markdown",
   "id": "3f212db2",
   "metadata": {},
   "source": [
    "# 15. Write a program that will check whether the number is armstrong number or not.\n"
   ]
  },
  {
   "attachments": {
    "armstrong_number.png": {
     "image/png": "[encoded data removed]"
    }
   },
   "cell_type": "markdown",
   "id": "aaf26d99",
   "metadata": {},
   "source": [
    "![armstrong_number.png](attachment:armstrong_number.png)"
   ]
  },
  {
   "cell_type": "code",
   "execution_count": 38,
   "id": "28aafde9",
   "metadata": {},
   "outputs": [
    {
     "name": "stdout",
     "output_type": "stream",
     "text": [
      "Enter a 3 digit number 407\n",
      "The number is a armstrong\n"
     ]
    }
   ],
   "source": [
    "num = int(input('Enter a 3 digit number '))\n",
    "number = num \n",
    "\n",
    "a = num%10\n",
    "num = num//10\n",
    "\n",
    "b = num%10\n",
    "num = num//10\n",
    "\n",
    "c = num%10\n",
    "num = num//10\n",
    "\n",
    "\n",
    "\n",
    "cube_sum = a**3+b**3+c**3\n",
    "\n",
    "if number == cube_sum:\n",
    "    print('The number is a armstrong')\n",
    "else:\n",
    "    print('The number is not a armstrong')"
   ]
  },
  {
   "cell_type": "code",
   "execution_count": 39,
   "id": "33c47f9a",
   "metadata": {},
   "outputs": [
    {
     "name": "stdout",
     "output_type": "stream",
     "text": [
      "Enter a 3 digit number 108\n",
      "The number is not a armstrong\n"
     ]
    }
   ],
   "source": [
    "num = int(input('Enter a 3 digit number '))\n",
    "number = num \n",
    "\n",
    "a = num%10\n",
    "num = num//10\n",
    "\n",
    "b = num%10\n",
    "num = num//10\n",
    "\n",
    "c = num%10\n",
    "num = num//10\n",
    "\n",
    "\n",
    "\n",
    "cube_sum = a**3+b**3+c**3\n",
    "\n",
    "if number == cube_sum:\n",
    "    print('The number is a armstrong')\n",
    "else:\n",
    "    print('The number is not a armstrong')"
   ]
  },
  {
   "cell_type": "code",
   "execution_count": null,
   "id": "4b785e28",
   "metadata": {},
   "outputs": [],
   "source": []
  },
  {
   "cell_type": "markdown",
   "id": "6d06dc81",
   "metadata": {},
   "source": [
    "16. Write a program that will give you the in hand salary after deduction of HRA(10%),DA(5%),PF(3%), and tax(if salary is between 5-10 lakh–10%),(11-20lakh–20%),(20< _   – 30%)(0-1lakh print k).\n"
   ]
  },
  {
   "cell_type": "code",
   "execution_count": 44,
   "id": "d303e6dc",
   "metadata": {},
   "outputs": [
    {
     "name": "stdout",
     "output_type": "stream",
     "text": [
      "Enter the CTC 1800000\n",
      "your inhand salary is:  1123200.0\n"
     ]
    }
   ],
   "source": [
    "ctc  = int(input('Enter the CTC '))\n",
    "\n",
    "inhand_before_tax = ctc - ((30*ctc/100) - (5*ctc/100) - (3*ctc/100))\n",
    "\n",
    "if inhand_before_tax > 500000 and inhand_before_tax < 1000000:\n",
    "    tax = 10*inhand_before_tax/100\n",
    "elif inhand_before_tax > 1000000 and inhand_before_tax < 2000000:\n",
    "    tax = 20*inhand_before_tax/100\n",
    "elif inhand_before_tax > 2000000:\n",
    "    tax = 30*inhand_before_tax/100\n",
    "elif inhand_before_tax < 500000:\n",
    "    tax = 0\n",
    "    \n",
    "inhand_after_tax = inhand_before_tax - tax\n",
    "print('your inhand salary is: ' , inhand_after_tax)"
   ]
  },
  {
   "cell_type": "code",
   "execution_count": null,
   "id": "1d3a76aa",
   "metadata": {},
   "outputs": [],
   "source": []
  },
  {
   "cell_type": "markdown",
   "id": "d772b35e",
   "metadata": {},
   "source": [
    "# 17. Write a menu driven program - 1.cm to ft  2.kl to miles  3.usd to inr  4.exit\n"
   ]
  },
  {
   "cell_type": "code",
   "execution_count": 52,
   "id": "71832bc2",
   "metadata": {},
   "outputs": [
    {
     "name": "stdout",
     "output_type": "stream",
     "text": [
      "Enter 1 to convert cm to ft\n",
      "Enter 2 to convert Kilometer to miles\n",
      "Enter 3 to convert USD to INR\n",
      "Enter 4 to exit 1\n",
      "Enter the value in cm10\n",
      "Length in ft is  0.32808400000000004\n"
     ]
    }
   ],
   "source": [
    "user_input = input('''Enter 1 to convert cm to ft\n",
    "Enter 2 to convert Kilometer to miles\n",
    "Enter 3 to convert USD to INR\n",
    "Enter 4 to exit ''')\n",
    "\n",
    "if user_input == '1':\n",
    "    cm = int(input('Enter the value in cm'))\n",
    "    ft = cm*0.0328084\n",
    "    print('Length in ft is ', ft)\n",
    "    \n",
    "elif user_input == '2':\n",
    "    km = int(input('Enter the value in km'))\n",
    "    miles = km*0.62137\n",
    "    print('Length in miles is ', miles)\n",
    "\n",
    "\n",
    "elif user_input == '3':\n",
    "    usd  = int(input('Enter the amount in USD'))\n",
    "    inr  = usd*75\n",
    "    print('Amount in INR is ', inr)\n",
    "\n",
    "else:\n",
    "    print('exit')"
   ]
  },
  {
   "cell_type": "code",
   "execution_count": null,
   "id": "9e9e1ca3",
   "metadata": {},
   "outputs": [],
   "source": []
  },
  {
   "cell_type": "code",
   "execution_count": 53,
   "id": "98490e67",
   "metadata": {},
   "outputs": [
    {
     "name": "stdout",
     "output_type": "stream",
     "text": [
      "Enter 1 to convert cm to ft\n",
      "Enter 2 to convert Kilometer to miles\n",
      "Enter 3 to convert USD to INR\n",
      "Enter 4 to exit 2\n",
      "Enter the value in km10\n",
      "Length in miles is  6.213699999999999\n"
     ]
    }
   ],
   "source": [
    "user_input = input('''Enter 1 to convert cm to ft\n",
    "Enter 2 to convert Kilometer to miles\n",
    "Enter 3 to convert USD to INR\n",
    "Enter 4 to exit ''')\n",
    "\n",
    "if user_input == '1':\n",
    "    cm = int(input('Enter the value in cm'))\n",
    "    ft = cm*0.0328084\n",
    "    print('Length in ft is ', ft)\n",
    "    \n",
    "elif user_input == '2':\n",
    "    km = int(input('Enter the value in km'))\n",
    "    miles = km*0.62137\n",
    "    print('Length in miles is ', miles)\n",
    "\n",
    "\n",
    "elif user_input == '3':\n",
    "    usd  = int(input('Enter the amount in USD'))\n",
    "    inr  = usd*75\n",
    "    print('Amount in INR is ', inr)\n",
    "\n",
    "else:\n",
    "    print('exit')"
   ]
  },
  {
   "cell_type": "code",
   "execution_count": 54,
   "id": "67407a14",
   "metadata": {},
   "outputs": [
    {
     "name": "stdout",
     "output_type": "stream",
     "text": [
      "Enter 1 to convert cm to ft\n",
      "Enter 2 to convert Kilometer to miles\n",
      "Enter 3 to convert USD to INR\n",
      "Enter 4 to exit 3\n",
      "Enter the amount in USD100\n",
      "Amount in INR is  7500\n"
     ]
    }
   ],
   "source": [
    "user_input = input('''Enter 1 to convert cm to ft\n",
    "Enter 2 to convert Kilometer to miles\n",
    "Enter 3 to convert USD to INR\n",
    "Enter 4 to exit ''')\n",
    "\n",
    "if user_input == '1':\n",
    "    cm = int(input('Enter the value in cm'))\n",
    "    ft = cm*0.0328084\n",
    "    print('Length in ft is ', ft)\n",
    "    \n",
    "elif user_input == '2':\n",
    "    km = int(input('Enter the value in km'))\n",
    "    miles = km*0.62137\n",
    "    print('Length in miles is ', miles)\n",
    "\n",
    "\n",
    "elif user_input == '3':\n",
    "    usd  = int(input('Enter the amount in USD'))\n",
    "    inr  = usd*75\n",
    "    print('Amount in INR is ', inr)\n",
    "\n",
    "else:\n",
    "    print('exit')"
   ]
  },
  {
   "cell_type": "code",
   "execution_count": 55,
   "id": "e667c1ea",
   "metadata": {},
   "outputs": [
    {
     "name": "stdout",
     "output_type": "stream",
     "text": [
      "Enter 1 to convert cm to ft\n",
      "Enter 2 to convert Kilometer to miles\n",
      "Enter 3 to convert USD to INR\n",
      "Enter 4 to exit 4\n",
      "exit\n"
     ]
    }
   ],
   "source": [
    "user_input = input('''Enter 1 to convert cm to ft\n",
    "Enter 2 to convert Kilometer to miles\n",
    "Enter 3 to convert USD to INR\n",
    "Enter 4 to exit ''')\n",
    "\n",
    "if user_input == '1':\n",
    "    cm = int(input('Enter the value in cm'))\n",
    "    ft = cm*0.0328084\n",
    "    print('Length in ft is ', ft)\n",
    "    \n",
    "elif user_input == '2':\n",
    "    km = int(input('Enter the value in km'))\n",
    "    miles = km*0.62137\n",
    "    print('Length in miles is ', miles)\n",
    "\n",
    "\n",
    "elif user_input == '3':\n",
    "    usd  = int(input('Enter the amount in USD'))\n",
    "    inr  = usd*75\n",
    "    print('Amount in INR is ', inr)\n",
    "\n",
    "else:\n",
    "    print('exit')"
   ]
  },
  {
   "cell_type": "code",
   "execution_count": null,
   "id": "ca9102ac",
   "metadata": {},
   "outputs": [],
   "source": []
  },
  {
   "cell_type": "code",
   "execution_count": null,
   "id": "6d7c1fb2",
   "metadata": {},
   "outputs": [],
   "source": []
  },
  {
   "cell_type": "markdown",
   "id": "4803aa24",
   "metadata": {},
   "source": [
    "# 18. Write a program that will swap numbers"
   ]
  },
  {
   "cell_type": "code",
   "execution_count": 59,
   "id": "0dfc22de",
   "metadata": {},
   "outputs": [
    {
     "name": "stdout",
     "output_type": "stream",
     "text": [
      "50\n",
      "150.0\n"
     ]
    }
   ],
   "source": [
    "a =1000\n",
    "b =50\n",
    "\n",
    "a,b = b,c\n",
    "print(a)\n",
    "print(b)"
   ]
  },
  {
   "cell_type": "code",
   "execution_count": null,
   "id": "02e8511c",
   "metadata": {},
   "outputs": [],
   "source": []
  },
  {
   "cell_type": "markdown",
   "id": "406a4940",
   "metadata": {},
   "source": [
    "# 19. Write a program to find the sum of first n numbers, where n will be provided by the user. Eg if the user provides n=10 the output should be 55.\n"
   ]
  },
  {
   "cell_type": "code",
   "execution_count": 61,
   "id": "1e554dac",
   "metadata": {},
   "outputs": [
    {
     "name": "stdout",
     "output_type": "stream",
     "text": [
      "input the number of elements10\n",
      "55\n"
     ]
    }
   ],
   "source": [
    "n = int(input('input the number of elements'))\n",
    "\n",
    "sum = 0\n",
    "\n",
    "for i in range(n+1):\n",
    "    sum = sum + i\n",
    "print(sum)"
   ]
  },
  {
   "cell_type": "code",
   "execution_count": null,
   "id": "42f5efc5",
   "metadata": {},
   "outputs": [],
   "source": []
  },
  {
   "cell_type": "markdown",
   "id": "e661793a",
   "metadata": {},
   "source": [
    "# 20. Write a program that can multiply 2 numbers provided by the user without using the * operator"
   ]
  },
  {
   "cell_type": "code",
   "execution_count": 63,
   "id": "70e42b50",
   "metadata": {},
   "outputs": [
    {
     "name": "stdout",
     "output_type": "stream",
     "text": [
      "30\n"
     ]
    }
   ],
   "source": [
    "a = 5\n",
    "b = 6\n",
    "\n",
    "product = 0\n",
    "for i in range(a):\n",
    "    product  = product + b \n",
    "    \n",
    "print(product)"
   ]
  },
  {
   "cell_type": "code",
   "execution_count": null,
   "id": "6ca5cbaa",
   "metadata": {},
   "outputs": [],
   "source": []
  },
  {
   "cell_type": "markdown",
   "id": "45516a2c",
   "metadata": {},
   "source": [
    "# 21. Write a program that can find the factorial of a given number provided by the user.\n"
   ]
  },
  {
   "cell_type": "code",
   "execution_count": 68,
   "id": "0ba3e63d",
   "metadata": {},
   "outputs": [
    {
     "name": "stdout",
     "output_type": "stream",
     "text": [
      "Enter the number to get the factorial5\n",
      "120\n"
     ]
    }
   ],
   "source": [
    "num = int(input('Enter the number to get the factorial'))\n",
    "\n",
    "fact = 1\n",
    "\n",
    "for i in range(1,num+1):\n",
    "        fact = fact*i\n",
    "        \n",
    "print(fact)"
   ]
  },
  {
   "cell_type": "code",
   "execution_count": null,
   "id": "9bd1b5ea",
   "metadata": {},
   "outputs": [],
   "source": []
  },
  {
   "cell_type": "markdown",
   "id": "977cef5a",
   "metadata": {},
   "source": [
    "# 22. Write a program to print the first 25 odd numbers\n"
   ]
  },
  {
   "cell_type": "code",
   "execution_count": 69,
   "id": "60e8c129",
   "metadata": {},
   "outputs": [
    {
     "name": "stdout",
     "output_type": "stream",
     "text": [
      "1\n",
      "3\n",
      "5\n",
      "7\n",
      "9\n",
      "11\n",
      "13\n",
      "15\n",
      "17\n",
      "19\n",
      "21\n",
      "23\n",
      "25\n"
     ]
    }
   ],
   "source": [
    "for i in range(1,26,2):\n",
    "    print(i)"
   ]
  },
  {
   "cell_type": "code",
   "execution_count": null,
   "id": "0a51d3a6",
   "metadata": {},
   "outputs": [],
   "source": []
  },
  {
   "cell_type": "markdown",
   "id": "7c05e3c2",
   "metadata": {},
   "source": [
    "# 23. Write a program to print whether a given number is prime number or not"
   ]
  },
  {
   "cell_type": "code",
   "execution_count": 89,
   "id": "9bc04348",
   "metadata": {},
   "outputs": [
    {
     "name": "stdout",
     "output_type": "stream",
     "text": [
      "Enter the number29\n",
      "prime\n"
     ]
    }
   ],
   "source": [
    "num = int(input('Enter the number'))\n",
    "\n",
    "flag = 0\n",
    "for i in range(2,num):\n",
    "    if num%i ==0:\n",
    "        flag =1\n",
    "        break\n",
    "    \n",
    "    \n",
    "if flag == 1:\n",
    "    print('Not a prime')\n",
    "else:\n",
    "    print('prime')"
   ]
  },
  {
   "cell_type": "code",
   "execution_count": null,
   "id": "bc9f7c39",
   "metadata": {},
   "outputs": [],
   "source": []
  },
  {
   "cell_type": "code",
   "execution_count": null,
   "id": "c44ae776",
   "metadata": {},
   "outputs": [],
   "source": []
  },
  {
   "cell_type": "code",
   "execution_count": 90,
   "id": "42076933",
   "metadata": {},
   "outputs": [
    {
     "name": "stdout",
     "output_type": "stream",
     "text": [
      "Enter the number25\n",
      "Not a prime\n"
     ]
    }
   ],
   "source": [
    "num = int(input('Enter the number'))\n",
    "\n",
    "flag = 0\n",
    "for i in range(2,num):\n",
    "    if num%i ==0:\n",
    "        flag =1\n",
    "        break\n",
    "    \n",
    "    \n",
    "if flag == 1:\n",
    "    print('Not a prime')\n",
    "else:\n",
    "    print('prime')"
   ]
  },
  {
   "cell_type": "code",
   "execution_count": null,
   "id": "f147505c",
   "metadata": {},
   "outputs": [],
   "source": []
  },
  {
   "cell_type": "code",
   "execution_count": null,
   "id": "d18eee16",
   "metadata": {},
   "outputs": [],
   "source": []
  },
  {
   "cell_type": "markdown",
   "id": "65a4cf05",
   "metadata": {},
   "source": [
    "# 24. Print all the armstrong numbers in the range of 100 to 1000\n"
   ]
  },
  {
   "cell_type": "code",
   "execution_count": 93,
   "id": "cfa6f95d",
   "metadata": {},
   "outputs": [
    {
     "name": "stdout",
     "output_type": "stream",
     "text": [
      "153\n",
      "370\n",
      "371\n",
      "407\n"
     ]
    }
   ],
   "source": [
    "for num in range(100,1000):\n",
    "    number = num \n",
    "\n",
    "    a = num%10\n",
    "    num = num//10\n",
    "\n",
    "    b = num%10\n",
    "    num = num//10\n",
    "\n",
    "    c = num%10\n",
    "    num = num//10\n",
    "\n",
    "\n",
    "\n",
    "    cube_sum = a**3+b**3+c**3\n",
    "\n",
    "    if number != cube_sum:\n",
    "        pass\n",
    "    else:\n",
    "        print(number)"
   ]
  },
  {
   "cell_type": "code",
   "execution_count": null,
   "id": "f3e79581",
   "metadata": {},
   "outputs": [],
   "source": []
  },
  {
   "cell_type": "code",
   "execution_count": null,
   "id": "c8913958",
   "metadata": {},
   "outputs": [],
   "source": []
  },
  {
   "cell_type": "markdown",
   "id": "1c22cbb2",
   "metadata": {},
   "source": [
    "25. The current population of a town is 10000. The population of the town is increasing at the rate of 10% per year. You have to write a program to find out the population at the end of each of the last 10 years. For eg current population is 10000 so the output should be like this:\n",
    "10th year - 10000\n",
    "9th year - 9000\n",
    "8th year - 8100 and so on\n"
   ]
  },
  {
   "cell_type": "code",
   "execution_count": 102,
   "id": "da52172b",
   "metadata": {},
   "outputs": [
    {
     "name": "stdout",
     "output_type": "stream",
     "text": [
      "Population in 10th year: 10000\n",
      "Population in 9th year: 9000\n",
      "Population in 8th year: 8100\n",
      "Population in 7th year: 7290\n",
      "Population in 6th year: 6561\n",
      "Population in 5th year: 5904\n",
      "Population in 4th year: 5314\n",
      "Population in 3rd year: 4782\n",
      "Population in 2nd year: 4304\n"
     ]
    }
   ],
   "source": [
    "current_population = 10000\n",
    "\n",
    "\n",
    "for i in range(10,1,-1):\n",
    "    if i not in (2,3):\n",
    "        print('Population in {}th year: {}'.format(i ,int(current_population) ))\n",
    "        current_population = current_population - current_population/100*10\n",
    "    elif i == 3:\n",
    "        print('Population in {}rd year: {}'.format(i ,int(current_population )))\n",
    "        current_population = current_population - current_population/100*10\n",
    "    else:\n",
    "        print('Population in {}nd year: {}'.format(i ,int(current_population )))\n",
    "        current_population = current_population - current_population/100*10"
   ]
  }
 ],
 "metadata": {
  "kernelspec": {
   "display_name": "Python 3 (ipykernel)",
   "language": "python",
   "name": "python3"
  },
  "language_info": {
   "codemirror_mode": {
    "name": "ipython",
    "version": 3
   },
   "file_extension": ".py",
   "mimetype": "text/x-python",
   "name": "python",
   "nbconvert_exporter": "python",
   "pygments_lexer": "ipython3",
   "version": "3.10.4"
  }
 },
 "nbformat": 4,
 "nbformat_minor": 5
}
